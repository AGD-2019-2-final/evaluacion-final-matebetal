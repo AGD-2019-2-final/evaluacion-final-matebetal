{
 "cells": [
  {
   "cell_type": "code",
   "execution_count": 9,
   "metadata": {},
   "outputs": [
    {
     "name": "stdout",
     "output_type": "stream",
     "text": [
      "The bigdata extension is already loaded. To reload it, use:\n",
      "  %reload_ext bigdata\n"
     ]
    }
   ],
   "source": [
    "%load_ext bigdata"
   ]
  },
  {
   "cell_type": "code",
   "execution_count": 10,
   "metadata": {},
   "outputs": [],
   "source": [
    "%hive_start"
   ]
  },
  {
   "cell_type": "code",
   "execution_count": 11,
   "metadata": {},
   "outputs": [],
   "source": [
    "%timeout 300"
   ]
  },
  {
   "cell_type": "code",
   "execution_count": 12,
   "metadata": {},
   "outputs": [
    {
     "name": "stdout",
     "output_type": "stream",
     "text": [
      "rm: `input/*': No such file or directory\n",
      "rm: `output/*': No such file or directory\n",
      "rm: `output2/*': No such file or directory\n",
      "rmdir: `input': No such file or directory\n",
      "rmdir: `output': No such file or directory\n",
      "rmdir: `input': No such file or directory\n",
      "rmdir: `output2': No such file or directory\n"
     ]
    }
   ],
   "source": [
    "## Se elimina el directorio de salida en el hdfs si existe\n",
    "!hadoop fs -rm input/*\n",
    "!hadoop fs -rm output/*\n",
    "!hadoop fs -rm output2/*\n",
    "!hadoop fs -rmdir input output\n",
    "!hadoop fs -rmdir input output2"
   ]
  },
  {
   "cell_type": "code",
   "execution_count": 13,
   "metadata": {},
   "outputs": [
    {
     "name": "stdout",
     "output_type": "stream",
     "text": [
      "put: `data.tsv': File exists\n",
      "Found 1 items\n",
      "-rw-r--r--   1 root supergroup        637 2020-01-19 21:10 data.tsv\n"
     ]
    }
   ],
   "source": [
    "!hadoop fs -put *.tsv .\n",
    "!hadoop fs -ls"
   ]
  },
  {
   "cell_type": "code",
   "execution_count": 14,
   "metadata": {},
   "outputs": [],
   "source": [
    "!rm -rf input\n",
    "!rm -rf output\n",
    "!mkdir input\n",
    "!mkdir output"
   ]
  },
  {
   "cell_type": "code",
   "execution_count": 15,
   "metadata": {},
   "outputs": [
    {
     "name": "stdout",
     "output_type": "stream",
     "text": [
      "Overwriting script.hive\n"
     ]
    }
   ],
   "source": [
    "%%writefile script.hive\n",
    "\n",
    "## Borra la carpeta si existe\n",
    "!hdfs dfs -rm -r -f /tmp/output\n",
    "\n",
    "##\n",
    "## Crea la carpeta drivers en el HDFS\n",
    "##\n",
    "!hdfs dfs -mkdir /tmp/output\n",
    "\n",
    "##\n",
    "## Copia los archivos al HDFS\n",
    "##\n",
    "!hdfs dfs -copyFromLocal data.tsv  /tmp/output/data.tsv\n",
    "\n",
    "## Carga de datos\n",
    "## Punto 1\n",
    "\n",
    "DROP TABLE IF EXISTS data;\n",
    "\n",
    "CREATE TABLE data (letra       STRING,\n",
    "                           fecha        STRING,\n",
    "                           numero      INT)\n",
    "\n",
    "ROW FORMAT DELIMITED\n",
    "FIELDS TERMINATED BY '\\t';\n",
    "\n",
    "SHOW TABLES;\n",
    "SHOW CREATE TABLE data;\n",
    "\n",
    "DESCRIBE data;\n",
    "\n",
    "SELECT * FROM data LIMIT 5;\n",
    "\n",
    "select * FROM data\n",
    "group by letra\n",
    "order by junto;\n",
    "\n",
    "##\n",
    "## Lista los archivos al HDFS para verificar\n",
    "## que los archivos fueron copiados correctamente.\n",
    "##\n",
    "!hdfs dfs -ls /tmp/output/*"
   ]
  },
  {
   "cell_type": "code",
   "execution_count": 16,
   "metadata": {},
   "outputs": [
    {
     "name": "stdout",
     "output_type": "stream",
     "text": [
      "SLF4J: Class path contains multiple SLF4J bindings.\n",
      "SLF4J: Found binding in [jar:file:/usr/local/hive/lib/log4j-slf4j-impl-2.6.2.jar!/org/slf4j/impl/StaticLoggerBinder.class]\n",
      "SLF4J: Found binding in [jar:file:/usr/local/hadoop/share/hadoop/common/lib/slf4j-log4j12-1.7.10.jar!/org/slf4j/impl/StaticLoggerBinder.class]\n",
      "SLF4J: See http://www.slf4j.org/codes.html#multiple_bindings for an explanation.\n",
      "SLF4J: Actual binding is of type [org.apache.logging.slf4j.Log4jLoggerFactory]\n",
      "\n",
      "Logging initialized using configuration in jar:file:/usr/local/hive/lib/hive-common-2.3.6.jar!/hive-log4j2.properties Async: true\n",
      "NoViableAltException(24@[])\n",
      "\tat org.apache.hadoop.hive.ql.parse.HiveParser.statement(HiveParser.java:1300)\n",
      "\tat org.apache.hadoop.hive.ql.parse.ParseDriver.parse(ParseDriver.java:208)\n",
      "\tat org.apache.hadoop.hive.ql.parse.ParseUtils.parse(ParseUtils.java:77)\n",
      "\tat org.apache.hadoop.hive.ql.parse.ParseUtils.parse(ParseUtils.java:70)\n",
      "\tat org.apache.hadoop.hive.ql.Driver.compile(Driver.java:468)\n",
      "\tat org.apache.hadoop.hive.ql.Driver.compileInternal(Driver.java:1317)\n",
      "\tat org.apache.hadoop.hive.ql.Driver.runInternal(Driver.java:1457)\n",
      "\tat org.apache.hadoop.hive.ql.Driver.run(Driver.java:1237)\n",
      "\tat org.apache.hadoop.hive.ql.Driver.run(Driver.java:1227)\n",
      "\tat org.apache.hadoop.hive.cli.CliDriver.processLocalCmd(CliDriver.java:233)\n",
      "\tat org.apache.hadoop.hive.cli.CliDriver.processCmd(CliDriver.java:184)\n",
      "\tat org.apache.hadoop.hive.cli.CliDriver.processLine(CliDriver.java:403)\n",
      "\tat org.apache.hadoop.hive.cli.CliDriver.processLine(CliDriver.java:336)\n",
      "\tat org.apache.hadoop.hive.cli.CliDriver.executeDriver(CliDriver.java:787)\n",
      "\tat org.apache.hadoop.hive.cli.CliDriver.run(CliDriver.java:759)\n",
      "\tat org.apache.hadoop.hive.cli.CliDriver.main(CliDriver.java:686)\n",
      "\tat sun.reflect.NativeMethodAccessorImpl.invoke0(Native Method)\n",
      "\tat sun.reflect.NativeMethodAccessorImpl.invoke(NativeMethodAccessorImpl.java:62)\n",
      "\tat sun.reflect.DelegatingMethodAccessorImpl.invoke(DelegatingMethodAccessorImpl.java:43)\n",
      "\tat java.lang.reflect.Method.invoke(Method.java:498)\n",
      "\tat org.apache.hadoop.util.RunJar.run(RunJar.java:239)\n",
      "\tat org.apache.hadoop.util.RunJar.main(RunJar.java:153)\n",
      "FAILED: ParseException line 1:0 cannot recognize input near 'xecute' '<EOF>' '<EOF>'\n"
     ]
    }
   ],
   "source": [
    "!hive -execute 'run script.hive'"
   ]
  },
  {
   "cell_type": "code",
   "execution_count": 5,
   "metadata": {},
   "outputs": [
    {
     "name": "stdout",
     "output_type": "stream",
     "text": [
      "DROP TABLE IF EXISTS data;\n",
      "OK\n",
      "Time taken: 13.517 seconds\n",
      "CREATE TABLE data (letra       STRING,\n",
      "                           fecha        STRING,\n",
      "                           numero      INT)\n",
      "ROW FORMAT DELIMITED\n",
      "FIELDS TERMINATED BY '\\t';\n",
      "OK\n",
      "Time taken: 1.331 seconds\n"
     ]
    }
   ],
   "source": [
    "%%hive\n",
    "DROP TABLE IF EXISTS data;\n",
    "\n",
    "CREATE TABLE data (letra       STRING,\n",
    "                           fecha        STRING,\n",
    "                           numero      INT)\n",
    "\n",
    "ROW FORMAT DELIMITED\n",
    "FIELDS TERMINATED BY '\\t';\n"
   ]
  },
  {
   "cell_type": "code",
   "execution_count": 6,
   "metadata": {},
   "outputs": [
    {
     "name": "stdout",
     "output_type": "stream",
     "text": [
      "SHOW TABLES;\n",
      "OK\n",
      "data\n",
      "Time taken: 0.207 seconds, Fetched: 1 row(s)\n",
      "SHOW CREATE TABLE data;\n",
      "OK\n",
      "CREATE TABLE `data`(\n",
      "  `letra` string, \n",
      "  `fecha` string, \n",
      "  `numero` int)\n",
      "ROW FORMAT SERDE \n",
      "  'org.apache.hadoop.hive.serde2.lazy.LazySimpleSerDe' \n",
      "WITH SERDEPROPERTIES ( \n",
      "  'field.delim'='\\t', \n",
      "  'serialization.format'='\\t') \n",
      "STORED AS INPUTFORMAT \n",
      "  'org.apache.hadoop.mapred.TextInputFormat' \n",
      "OUTPUTFORMAT \n",
      "  'org.apache.hadoop.hive.ql.io.HiveIgnoreKeyTextOutputFormat'\n",
      "LOCATION\n",
      "  'hdfs://0.0.0.0:9000/user/hive/warehouse/data'\n",
      "TBLPROPERTIES (\n",
      "  'transient_lastDdlTime'='1579227316')\n",
      "Time taken: 0.38 seconds, Fetched: 17 row(s)\n"
     ]
    }
   ],
   "source": [
    "%%hive\n",
    "SHOW TABLES;\n",
    "SHOW CREATE TABLE data;"
   ]
  },
  {
   "cell_type": "code",
   "execution_count": 7,
   "metadata": {},
   "outputs": [
    {
     "name": "stdout",
     "output_type": "stream",
     "text": [
      "LOAD DATA INPATH '/tmp/output/data.tsv' OVERWRITE\n",
      "INTO TABLE data;\n",
      "Loading data to table default.data\n",
      "OK\n",
      "Time taken: 1.873 seconds\n"
     ]
    }
   ],
   "source": [
    "%%hive\n",
    "LOAD DATA INPATH '/tmp/output/data.tsv' OVERWRITE\n",
    "INTO TABLE data;"
   ]
  },
  {
   "cell_type": "code",
   "execution_count": 8,
   "metadata": {},
   "outputs": [
    {
     "name": "stdout",
     "output_type": "stream",
     "text": [
      "DESCRIBE data;\n",
      "OK\n",
      "letra               \tstring              \t                    \n",
      "fecha               \tstring              \t                    \n",
      "numero              \tint                 \t                    \n",
      "Time taken: 0.069 seconds, Fetched: 3 row(s)\n"
     ]
    }
   ],
   "source": [
    "%%hive\n",
    "DESCRIBE data;"
   ]
  },
  {
   "cell_type": "code",
   "execution_count": 9,
   "metadata": {},
   "outputs": [
    {
     "name": "stdout",
     "output_type": "stream",
     "text": [
      "SELECT * FROM data LIMIT 5;\n",
      "OK\n",
      "B\t1999-08-28\t14\n",
      "E\t1999-12-06\t12\n",
      "E\t1993-07-21\t17\n",
      "C\t1991-02-12\t13\n",
      "E\t1995-04-25\t16\n",
      "Time taken: 2.282 seconds, Fetched: 5 row(s)\n"
     ]
    }
   ],
   "source": [
    "%%hive\n",
    "SELECT * FROM data LIMIT 5;"
   ]
  },
  {
   "cell_type": "code",
   "execution_count": 10,
   "metadata": {},
   "outputs": [
    {
     "name": "stdout",
     "output_type": "stream",
     "text": [
      "select concat(letra,',', count(*)) as junto from data\n",
      "group by letra\n",
      "order by junto;\n",
      "WARNING: Hive-on-MR is deprecated in Hive 2 and may not be available in the future versions. Consider using a different execution engine (i.e. spark, tez) or using Hive 1.X releases.\n",
      "Query ID = root_20200117021553_c27e6023-c9a9-4b71-985a-3fa56e6aa3a2\n",
      "Total jobs = 2\n",
      "Launching Job 1 out of 2\n",
      "Number of reduce tasks not specified. Estimated from input data size: 1\n",
      "In order to change the average load for a reducer (in bytes):\n",
      "  set hive.exec.reducers.bytes.per.reducer=<number>\n",
      "In order to limit the maximum number of reducers:\n",
      "  set hive.exec.reducers.max=<number>\n",
      "In order to set a constant number of reducers:\n",
      "  set mapreduce.job.reduces=<number>\n",
      "Starting Job = job_1579225114203_0001, Tracking URL = http://a70e7d6bb180:8088/proxy/application_1579225114203_0001/\n",
      "Kill Command = /usr/local/hadoop/bin/hadoop job  -kill job_1579225114203_0001\n",
      "Hadoop job information for Stage-1: number of mappers: 1; number of reducers: 1\n",
      "2020-01-17 02:16:11,798 Stage-1 map = 0%,  reduce = 0%\n",
      "2020-01-17 02:16:18,817 Stage-1 map = 100%,  reduce = 0%, Cumulative CPU 2.8 sec\n",
      "2020-01-17 02:16:27,006 Stage-1 map = 100%,  reduce = 100%, Cumulative CPU 6.53 sec\n",
      "MapReduce Total cumulative CPU time: 6 seconds 530 msec\n",
      "Ended Job = job_1579225114203_0001\n",
      "Launching Job 2 out of 2\n",
      "Number of reduce tasks determined at compile time: 1\n",
      "In order to change the average load for a reducer (in bytes):\n",
      "  set hive.exec.reducers.bytes.per.reducer=<number>\n",
      "In order to limit the maximum number of reducers:\n",
      "  set hive.exec.reducers.max=<number>\n",
      "In order to set a constant number of reducers:\n",
      "  set mapreduce.job.reduces=<number>\n",
      "Starting Job = job_1579225114203_0002, Tracking URL = http://a70e7d6bb180:8088/proxy/application_1579225114203_0002/\n",
      "Kill Command = /usr/local/hadoop/bin/hadoop job  -kill job_1579225114203_0002\n",
      "Hadoop job information for Stage-2: number of mappers: 1; number of reducers: 1\n",
      "2020-01-17 02:16:42,886 Stage-2 map = 0%,  reduce = 0%\n",
      "2020-01-17 02:16:51,101 Stage-2 map = 100%,  reduce = 0%, Cumulative CPU 2.84 sec\n",
      "2020-01-17 02:17:00,495 Stage-2 map = 100%,  reduce = 100%, Cumulative CPU 5.67 sec\n",
      "MapReduce Total cumulative CPU time: 5 seconds 670 msec\n",
      "Ended Job = job_1579225114203_0002\n",
      "MapReduce Jobs Launched: \n",
      "Stage-Stage-1: Map: 1  Reduce: 1   Cumulative CPU: 6.53 sec   HDFS Read: 8137 HDFS Write: 204 SUCCESS\n",
      "Stage-Stage-2: Map: 1  Reduce: 1   Cumulative CPU: 5.67 sec   HDFS Read: 4980 HDFS Write: 170 SUCCESS\n",
      "Total MapReduce CPU Time Spent: 12 seconds 200 msec\n",
      "OK\n",
      "A,12\n",
      "B,10\n",
      "C,4\n",
      "D,1\n",
      "E,13\n",
      "Time taken: 68.558 seconds, Fetched: 5 row(s)\n"
     ]
    }
   ],
   "source": [
    "%%hive\n",
    "select concat(letra,',', count(*)) as junto from data\n",
    "group by letra\n",
    "order by junto;"
   ]
  },
  {
   "cell_type": "code",
   "execution_count": 11,
   "metadata": {},
   "outputs": [],
   "source": [
    "%hive_quit"
   ]
  }
 ],
 "metadata": {
  "kernelspec": {
   "display_name": "Python 3",
   "language": "python",
   "name": "python3"
  },
  "language_info": {
   "codemirror_mode": {
    "name": "ipython",
    "version": 3
   },
   "file_extension": ".py",
   "mimetype": "text/x-python",
   "name": "python",
   "nbconvert_exporter": "python",
   "pygments_lexer": "ipython3",
   "version": "3.6.8"
  }
 },
 "nbformat": 4,
 "nbformat_minor": 4
}
