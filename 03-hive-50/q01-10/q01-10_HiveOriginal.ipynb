{
 "cells": [
  {
   "cell_type": "code",
   "execution_count": 3,
   "metadata": {},
   "outputs": [],
   "source": [
    "%load_ext bigdata"
   ]
  },
  {
   "cell_type": "code",
   "execution_count": 4,
   "metadata": {},
   "outputs": [],
   "source": [
    "%hive_start"
   ]
  },
  {
   "cell_type": "code",
   "execution_count": 5,
   "metadata": {},
   "outputs": [],
   "source": [
    "%timeout 300"
   ]
  },
  {
   "cell_type": "code",
   "execution_count": 6,
   "metadata": {},
   "outputs": [],
   "source": [
    "!hadoop fs -rm -f -r tmp;"
   ]
  },
  {
   "cell_type": "code",
   "execution_count": 7,
   "metadata": {},
   "outputs": [
    {
     "name": "stdout",
     "output_type": "stream",
     "text": [
      "Deleted /tmp/output\n",
      "-rw-r--r--   1 root supergroup        637 2020-01-20 01:01 /tmp/output/data.tsv\n"
     ]
    }
   ],
   "source": [
    "## Borra la carpeta si existe\n",
    "!hdfs dfs -rm -r -f /tmp/output\n",
    "## Crea la carpeta drivers en el HDFS\n",
    "!hdfs dfs -mkdir /tmp/output\n",
    "## Copia los archivos al HDFS\n",
    "!hdfs dfs -copyFromLocal data.tsv  /tmp/output/data.tsv\n",
    "## Lista los archivos al HDFS para verificar\n",
    "## que los archivos fueron copiados correctamente.\n",
    "!hdfs dfs -ls /tmp/output/*"
   ]
  },
  {
   "cell_type": "code",
   "execution_count": 8,
   "metadata": {},
   "outputs": [
    {
     "name": "stdout",
     "output_type": "stream",
     "text": [
      "DROP TABLE IF EXISTS data;\n",
      "FAILED: SemanticException org.apache.hadoop.hive.ql.metadata.HiveException: java.lang.RuntimeException: Unable to instantiate org.apache.hadoop.hive.ql.metadata.SessionHiveMetaStoreClient\n",
      "CREATE TABLE data (letra  STRING,\n",
      "                   fecha   STRING,\n",
      "                    numero   INT)\n",
      "ROW FORMAT DELIMITED\n",
      "FIELDS TERMINATED BY '\\t'\n",
      "TBLPROPERTIES (\"skip.header.line.count\"=\"1\");\n",
      "FAILED: SemanticException org.apache.hadoop.hive.ql.metadata.HiveException: java.lang.RuntimeException: Unable to instantiate org.apache.hadoop.hive.ql.metadata.SessionHiveMetaStoreClient\n"
     ]
    }
   ],
   "source": [
    "%%hive\n",
    "DROP TABLE IF EXISTS data;\n",
    "CREATE TABLE data (letra  STRING,\n",
    "                   fecha   STRING,\n",
    "                    numero   INT)\n",
    "\n",
    "ROW FORMAT DELIMITED\n",
    "FIELDS TERMINATED BY '\\t'\n",
    "TBLPROPERTIES (\"skip.header.line.count\"=\"1\");"
   ]
  },
  {
   "cell_type": "code",
   "execution_count": null,
   "metadata": {},
   "outputs": [],
   "source": []
  },
  {
   "cell_type": "code",
   "execution_count": 33,
   "metadata": {},
   "outputs": [
    {
     "name": "stdout",
     "output_type": "stream",
     "text": [
      "LOAD DATA INPATH '/tmp/output/data.tsv' OVERWRITE\n",
      "INTO TABLE data;\n",
      "Loading data to table default.data\n",
      "OK\n",
      "Time taken: 0.671 seconds\n"
     ]
    }
   ],
   "source": [
    "%%hive\n",
    "LOAD DATA INPATH '/tmp/output/data.tsv' OVERWRITE\n",
    "INTO TABLE data;"
   ]
  },
  {
   "cell_type": "code",
   "execution_count": 29,
   "metadata": {},
   "outputs": [
    {
     "name": "stdout",
     "output_type": "stream",
     "text": [
      "DESCRIBE data;\n",
      "OK\n",
      "letra               \tstring              \t                    \n",
      "fecha               \tstring              \t                    \n",
      "numero              \tint                 \t                    \n",
      "Time taken: 0.064 seconds, Fetched: 3 row(s)\n"
     ]
    }
   ],
   "source": [
    "%%hive\n",
    "DESCRIBE data;"
   ]
  },
  {
   "cell_type": "code",
   "execution_count": 34,
   "metadata": {},
   "outputs": [
    {
     "name": "stdout",
     "output_type": "stream",
     "text": [
      "SELECT * FROM data LIMIT 5;\n",
      "OK\n",
      "E\t1999-12-06\t12\n",
      "E\t1993-07-21\t17\n",
      "C\t1991-02-12\t13\n",
      "E\t1995-04-25\t16\n",
      "A\t1992-08-22\t14\n",
      "Time taken: 0.175 seconds, Fetched: 5 row(s)\n"
     ]
    }
   ],
   "source": [
    "%%hive\n",
    "SELECT * FROM data LIMIT 5;"
   ]
  },
  {
   "cell_type": "code",
   "execution_count": 38,
   "metadata": {},
   "outputs": [
    {
     "name": "stdout",
     "output_type": "stream",
     "text": [
      "SELECT letra,               \n",
      "       count(1) AS count\n",
      "    FROM data\n",
      "GROUP BY\n",
      "    letra\n",
      "ORDER BY\n",
      "    letra;\n",
      "WARNING: Hive-on-MR is deprecated in Hive 2 and may not be available in the future versions. Consider using a different execution engine (i.e. spark, tez) or using Hive 1.X releases.\n",
      "Query ID = root_20200109025528_aff12678-cc25-46c8-b71f-c6ccb646f61c\n",
      "Total jobs = 2\n",
      "Launching Job 1 out of 2\n",
      "Number of reduce tasks not specified. Estimated from input data size: 1\n",
      "In order to change the average load for a reducer (in bytes):\n",
      "  set hive.exec.reducers.bytes.per.reducer=<number>\n",
      "In order to limit the maximum number of reducers:\n",
      "  set hive.exec.reducers.max=<number>\n",
      "In order to set a constant number of reducers:\n",
      "  set mapreduce.job.reduces=<number>\n",
      "Starting Job = job_1578532930297_0012, Tracking URL = http://30055b31b519:8088/proxy/application_1578532930297_0012/\n",
      "Kill Command = /usr/local/hadoop/bin/hadoop job  -kill job_1578532930297_0012\n",
      "Hadoop job information for Stage-1: number of mappers: 1; number of reducers: 1\n",
      "2020-01-09 02:55:39,816 Stage-1 map = 0%,  reduce = 0%\n",
      "2020-01-09 02:55:45,306 Stage-1 map = 100%,  reduce = 0%, Cumulative CPU 2.04 sec\n",
      "2020-01-09 02:55:51,859 Stage-1 map = 100%,  reduce = 100%, Cumulative CPU 3.72 sec\n",
      "MapReduce Total cumulative CPU time: 3 seconds 720 msec\n",
      "Ended Job = job_1578532930297_0012\n",
      "Launching Job 2 out of 2\n",
      "Number of reduce tasks determined at compile time: 1\n",
      "In order to change the average load for a reducer (in bytes):\n",
      "  set hive.exec.reducers.bytes.per.reducer=<number>\n",
      "In order to limit the maximum number of reducers:\n",
      "  set hive.exec.reducers.max=<number>\n",
      "In order to set a constant number of reducers:\n",
      "  set mapreduce.job.reduces=<number>\n",
      "Starting Job = job_1578532930297_0013, Tracking URL = http://30055b31b519:8088/proxy/application_1578532930297_0013/\n",
      "Kill Command = /usr/local/hadoop/bin/hadoop job  -kill job_1578532930297_0013\n",
      "Hadoop job information for Stage-2: number of mappers: 1; number of reducers: 1\n",
      "2020-01-09 02:56:07,497 Stage-2 map = 0%,  reduce = 0%\n",
      "2020-01-09 02:56:14,080 Stage-2 map = 100%,  reduce = 0%, Cumulative CPU 1.53 sec\n",
      "2020-01-09 02:56:20,715 Stage-2 map = 100%,  reduce = 100%, Cumulative CPU 3.55 sec\n",
      "MapReduce Total cumulative CPU time: 3 seconds 550 msec\n",
      "Ended Job = job_1578532930297_0013\n",
      "MapReduce Jobs Launched: \n",
      "Stage-Stage-1: Map: 1  Reduce: 1   Cumulative CPU: 3.72 sec   HDFS Read: 7877 HDFS Write: 196 SUCCESS\n",
      "Stage-Stage-2: Map: 1  Reduce: 1   Cumulative CPU: 3.55 sec   HDFS Read: 5663 HDFS Write: 169 SUCCESS\n",
      "Total MapReduce CPU Time Spent: 7 seconds 270 msec\n",
      "OK\n",
      "A\t12\n",
      "B\t9\n",
      "C\t4\n",
      "D\t1\n",
      "E\t13\n",
      "Time taken: 53.667 seconds, Fetched: 5 row(s)\n"
     ]
    }
   ],
   "source": [
    "%%hive\n",
    "SELECT letra,               \n",
    "       count(1) AS count\n",
    "    FROM data\n",
    "GROUP BY\n",
    "    letra\n",
    "ORDER BY\n",
    "    letra;"
   ]
  },
  {
   "cell_type": "code",
   "execution_count": 39,
   "metadata": {},
   "outputs": [],
   "source": [
    "%hive_quit"
   ]
  },
  {
   "cell_type": "code",
   "execution_count": null,
   "metadata": {},
   "outputs": [],
   "source": []
  }
 ],
 "metadata": {
  "kernelspec": {
   "display_name": "Python 3",
   "language": "python",
   "name": "python3"
  },
  "language_info": {
   "codemirror_mode": {
    "name": "ipython",
    "version": 3
   },
   "file_extension": ".py",
   "mimetype": "text/x-python",
   "name": "python",
   "nbconvert_exporter": "python",
   "pygments_lexer": "ipython3",
   "version": "3.6.8"
  }
 },
 "nbformat": 4,
 "nbformat_minor": 4
}
